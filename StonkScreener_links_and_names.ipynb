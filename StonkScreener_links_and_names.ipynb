{
 "cells": [
  {
   "cell_type": "code",
   "execution_count": 1,
   "metadata": {
    "collapsed": true
   },
   "outputs": [],
   "source": [
    "from selenium.webdriver import Firefox\n",
    "from selenium.webdriver.firefox.options import Options\n",
    "from selenium.webdriver.firefox.service import Service\n",
    "from selenium.webdriver.common.action_chains import ActionChains\n",
    "from selenium.webdriver.common.keys import Keys\n",
    "from selenium.webdriver.common.by import By\n",
    "import time\n",
    "import pandas as pd"
   ]
  },
  {
   "cell_type": "code",
   "execution_count": 2,
   "outputs": [],
   "source": [
    "investing_url = 'https://www.investing.com/equities/united-states'"
   ],
   "metadata": {
    "collapsed": false,
    "pycharm": {
     "name": "#%%\n"
    }
   }
  },
  {
   "cell_type": "code",
   "execution_count": 3,
   "outputs": [],
   "source": [
    "def get_driver():\n",
    "    ffox_options = Options()\n",
    "    ffox_options.add_argument('--headless')\n",
    "    s = Service('/home/l/geckodriver')\n",
    "    driver = Firefox(service=s, options=ffox_options)\n",
    "    return driver"
   ],
   "metadata": {
    "collapsed": false,
    "pycharm": {
     "name": "#%%\n"
    }
   }
  },
  {
   "cell_type": "code",
   "execution_count": 4,
   "outputs": [],
   "source": [
    "def get_stonks(driver):\n",
    "    driver.get(investing_url)\n",
    "    stonks_filter = driver.find_element(By.ID, 'stocksFilter')\n",
    "    return stonks_filter"
   ],
   "metadata": {
    "collapsed": false,
    "pycharm": {
     "name": "#%%\n"
    }
   }
  },
  {
   "cell_type": "code",
   "execution_count": 5,
   "outputs": [],
   "source": [
    "def select_all_us_stonks(driver):\n",
    "    stonks_page_filter = get_stonks(driver)\n",
    "    action.move_to_element(stonks_page_filter).perform()\n",
    "    action.click(on_element=stonks_page_filter).perform()\n",
    "    action.send_keys_to_element(stonks_page_filter, Keys.UP).perform()\n",
    "    action.send_keys_to_element(stonks_page_filter, Keys.ENTER).perform()\n",
    "    time.sleep(10)"
   ],
   "metadata": {
    "collapsed": false,
    "pycharm": {
     "name": "#%%\n"
    }
   }
  },
  {
   "cell_type": "code",
   "execution_count": 6,
   "outputs": [],
   "source": [
    "def get_all_stonks(driver):\n",
    "    all_stonks = driver.find_elements(By.XPATH, \"//td[@class='bold left noWrap elp plusIconTd']/a\")\n",
    "    return all_stonks"
   ],
   "metadata": {
    "collapsed": false,
    "pycharm": {
     "name": "#%%\n"
    }
   }
  },
  {
   "cell_type": "code",
   "execution_count": 7,
   "outputs": [],
   "source": [
    "def stonk_parser(stonk):\n",
    "        stonk_name = stonk.text\n",
    "        stonk_link = stonk.get_attribute('href')\n",
    "        return {\n",
    "            'stonk_name': stonk_name,\n",
    "            'stonk_link': stonk_link\n",
    "        }"
   ],
   "metadata": {
    "collapsed": false,
    "pycharm": {
     "name": "#%%\n"
    }
   }
  },
  {
   "cell_type": "code",
   "execution_count": 1,
   "outputs": [],
   "source": [
    "def stonk_csv_maker(stonk_data):\n",
    "    stonk_df = pd.DataFrame(stonk_data)\n",
    "    print(stonk_df.head(10))\n",
    "    file = stonk_df.to_csv('stonk_csv.csv', index=False)\n",
    "    return file"
   ],
   "metadata": {
    "collapsed": false,
    "pycharm": {
     "name": "#%%\n"
    }
   }
  },
  {
   "cell_type": "code",
   "execution_count": null,
   "outputs": [],
   "source": [
    "if __name__ == '__main__':\n",
    "\n",
    "    driver = get_driver()\n",
    "    action = ActionChains(driver)\n",
    "    select_all_us_stonks(driver)\n",
    "\n",
    "    stonks = get_all_stonks(driver)\n",
    "    stonk_data = [stonk_parser(stonk) for stonk in stonks]\n",
    "    stonk_csv_maker(stonk_data)"
   ],
   "metadata": {
    "collapsed": false,
    "pycharm": {
     "name": "#%%\n"
    }
   }
  },
  {
   "cell_type": "code",
   "execution_count": null,
   "outputs": [],
   "source": [
    "stonk_df = pd.read_csv('stonk_csv.csv')\n",
    "stonk_df.head(10)"
   ],
   "metadata": {
    "collapsed": false,
    "pycharm": {
     "name": "#%%\n"
    }
   }
  }
 ],
 "metadata": {
  "kernelspec": {
   "display_name": "Python 3",
   "language": "python",
   "name": "python3"
  },
  "language_info": {
   "codemirror_mode": {
    "name": "ipython",
    "version": 2
   },
   "file_extension": ".py",
   "mimetype": "text/x-python",
   "name": "python",
   "nbconvert_exporter": "python",
   "pygments_lexer": "ipython2",
   "version": "2.7.6"
  }
 },
 "nbformat": 4,
 "nbformat_minor": 0
}