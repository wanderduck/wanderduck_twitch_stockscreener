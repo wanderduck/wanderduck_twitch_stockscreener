{
 "cells": [
  {
   "cell_type": "code",
   "execution_count": 6,
   "metadata": {
    "collapsed": true
   },
   "outputs": [],
   "source": [
    "from selenium.webdriver import Firefox\n",
    "from selenium.webdriver.firefox.options import Options\n",
    "from selenium.webdriver.firefox.service import Service\n",
    "from selenium.webdriver.common.action_chains import ActionChains\n",
    "from selenium.webdriver.common.keys import Keys\n",
    "from selenium.webdriver.common.by import By\n",
    "import time\n",
    "import pandas as pd"
   ]
  },
  {
   "cell_type": "code",
   "execution_count": 2,
   "outputs": [],
   "source": [
    "investing_url = 'https://www.investing.com/equities/united-states'"
   ],
   "metadata": {
    "collapsed": false,
    "pycharm": {
     "name": "#%%\n"
    }
   }
  },
  {
   "cell_type": "code",
   "execution_count": 3,
   "outputs": [],
   "source": [
    "def get_driver():\n",
    "    ffox_options = Options()\n",
    "    ffox_options.add_argument('--headless')\n",
    "    s = Service('/home/l/geckodriver')\n",
    "    driver = Firefox(service=s, options=ffox_options)\n",
    "    return driver"
   ],
   "metadata": {
    "collapsed": false,
    "pycharm": {
     "name": "#%%\n"
    }
   }
  },
  {
   "cell_type": "code",
   "execution_count": 4,
   "outputs": [],
   "source": [
    "def get_stonks(driver):\n",
    "    driver.get(investing_url)\n",
    "    stonks_filter = driver.find_element(By.ID, 'stocksFilter')\n",
    "    return stonks_filter"
   ],
   "metadata": {
    "collapsed": false,
    "pycharm": {
     "name": "#%%\n"
    }
   }
  },
  {
   "cell_type": "code",
   "execution_count": 5,
   "outputs": [],
   "source": [
    "def select_all_us_stonks(driver):\n",
    "    stonks_page_filter = get_stonks(driver)\n",
    "    action.move_to_element(stonks_page_filter).perform()\n",
    "    action.click(on_element=stonks_page_filter).perform()\n",
    "    action.send_keys_to_element(stonks_page_filter, Keys.UP).perform()\n",
    "    action.send_keys_to_element(stonks_page_filter, Keys.ENTER).perform()\n",
    "    time.sleep(10)"
   ],
   "metadata": {
    "collapsed": false,
    "pycharm": {
     "name": "#%%\n"
    }
   }
  },
  {
   "cell_type": "code",
   "execution_count": 6,
   "outputs": [],
   "source": [
    "def get_all_stonks(driver):\n",
    "    all_stonks = driver.find_elements(By.XPATH, \"//td[@class='bold left noWrap elp plusIconTd']/a\")\n",
    "    return all_stonks"
   ],
   "metadata": {
    "collapsed": false,
    "pycharm": {
     "name": "#%%\n"
    }
   }
  },
  {
   "cell_type": "code",
   "execution_count": null,
   "outputs": [],
   "source": [
    "def get_all_stonks(driver):\n",
    "    all_stonks = driver.find_element(By.CLASS_NAME, \"bold left noWrap elp plusIconTd\").find_elements(By.TAG_NAME, \"a\")\n",
    "    return all_stonks"
   ],
   "metadata": {
    "collapsed": false,
    "pycharm": {
     "name": "#%%\n"
    }
   }
  },
  {
   "cell_type": "code",
   "execution_count": 7,
   "outputs": [],
   "source": [
    "def stonk_parser(stonk):\n",
    "        stonk_name = stonk.text\n",
    "        stonk_link = stonk.get_attribute('href')\n",
    "        return {\n",
    "            'stonk_name': stonk_name,\n",
    "            'stonk_link': stonk_link\n",
    "        }"
   ],
   "metadata": {
    "collapsed": false,
    "pycharm": {
     "name": "#%%\n"
    }
   }
  },
  {
   "cell_type": "code",
   "execution_count": 1,
   "outputs": [],
   "source": [
    "def stonk_csv_maker(stonk_data):\n",
    "    stonk_df = pd.DataFrame(stonk_data)\n",
    "    file = stonk_df.to_csv('stonk_csv.csv', index=False)\n",
    "    return file"
   ],
   "metadata": {
    "collapsed": false,
    "pycharm": {
     "name": "#%%\n"
    }
   }
  },
  {
   "cell_type": "code",
   "execution_count": null,
   "outputs": [],
   "source": [
    "if __name__ == '__main__':\n",
    "\n",
    "    driver = get_driver()\n",
    "    action = ActionChains(driver)\n",
    "    select_all_us_stonks(driver)\n",
    "\n",
    "    stonks = get_all_stonks(driver)\n",
    "    stonk_data = [stonk_parser(stonk) for stonk in stonks]\n",
    "    stonk_csv_maker(stonk_data)"
   ],
   "metadata": {
    "collapsed": false,
    "pycharm": {
     "name": "#%%\n"
    }
   }
  },
  {
   "cell_type": "code",
   "execution_count": 8,
   "outputs": [
    {
     "data": {
      "text/plain": "                          stonk_name  \\\n0                         Ford Motor   \n1                              Apple   \n2                       Ascent Solar   \n3                    Bank of America   \n4                               AT&T   \n5                                AMD   \n6                             NVIDIA   \n7                            Marvell   \n8  Petroleo Brasileiro Petrobras ADR   \n9                           Vale ADR   \n\n                                          stonk_link  \n0   https://www.investing.com/equities/ford-motor-co  \n1  https://www.investing.com/equities/apple-compu...  \n2  https://www.investing.com/equities/ascent-sola...  \n3  https://www.investing.com/equities/bank-of-ame...  \n4            https://www.investing.com/equities/at-t  \n5  https://www.investing.com/equities/adv-micro-d...  \n6     https://www.investing.com/equities/nvidia-corp  \n7  https://www.investing.com/equities/marvell-tec...  \n8   https://www.investing.com/equities/petroleo-bras  \n9  https://www.investing.com/equities/vale-s.a.--...  ",
      "text/html": "<div>\n<style scoped>\n    .dataframe tbody tr th:only-of-type {\n        vertical-align: middle;\n    }\n\n    .dataframe tbody tr th {\n        vertical-align: top;\n    }\n\n    .dataframe thead th {\n        text-align: right;\n    }\n</style>\n<table border=\"1\" class=\"dataframe\">\n  <thead>\n    <tr style=\"text-align: right;\">\n      <th></th>\n      <th>stonk_name</th>\n      <th>stonk_link</th>\n    </tr>\n  </thead>\n  <tbody>\n    <tr>\n      <th>0</th>\n      <td>Ford Motor</td>\n      <td>https://www.investing.com/equities/ford-motor-co</td>\n    </tr>\n    <tr>\n      <th>1</th>\n      <td>Apple</td>\n      <td>https://www.investing.com/equities/apple-compu...</td>\n    </tr>\n    <tr>\n      <th>2</th>\n      <td>Ascent Solar</td>\n      <td>https://www.investing.com/equities/ascent-sola...</td>\n    </tr>\n    <tr>\n      <th>3</th>\n      <td>Bank of America</td>\n      <td>https://www.investing.com/equities/bank-of-ame...</td>\n    </tr>\n    <tr>\n      <th>4</th>\n      <td>AT&amp;T</td>\n      <td>https://www.investing.com/equities/at-t</td>\n    </tr>\n    <tr>\n      <th>5</th>\n      <td>AMD</td>\n      <td>https://www.investing.com/equities/adv-micro-d...</td>\n    </tr>\n    <tr>\n      <th>6</th>\n      <td>NVIDIA</td>\n      <td>https://www.investing.com/equities/nvidia-corp</td>\n    </tr>\n    <tr>\n      <th>7</th>\n      <td>Marvell</td>\n      <td>https://www.investing.com/equities/marvell-tec...</td>\n    </tr>\n    <tr>\n      <th>8</th>\n      <td>Petroleo Brasileiro Petrobras ADR</td>\n      <td>https://www.investing.com/equities/petroleo-bras</td>\n    </tr>\n    <tr>\n      <th>9</th>\n      <td>Vale ADR</td>\n      <td>https://www.investing.com/equities/vale-s.a.--...</td>\n    </tr>\n  </tbody>\n</table>\n</div>"
     },
     "execution_count": 8,
     "metadata": {},
     "output_type": "execute_result"
    }
   ],
   "source": [
    "stonk_df = pd.read_csv('stonk_csv.csv')\n",
    "stonk_df.head(10)"
   ],
   "metadata": {
    "collapsed": false,
    "pycharm": {
     "name": "#%%\n"
    }
   }
  },
  {
   "cell_type": "code",
   "execution_count": 11,
   "outputs": [
    {
     "data": {
      "text/plain": "<IPython.core.display.Javascript object>",
      "application/javascript": "window.require && require([\"base/js/namespace\"],function(Jupyter){Jupyter.notebook.save_checkpoint()})"
     },
     "metadata": {},
     "output_type": "display_data"
    },
    {
     "name": "stdout",
     "output_type": "stream",
     "text": [
      "[jovian] Updating notebook \"wanderduck/stonkscreener-links-and-names\" on https://jovian.ai/\n",
      "[jovian] Committed successfully! https://jovian.ai/wanderduck/stonkscreener-links-and-names\n"
     ]
    },
    {
     "data": {
      "text/plain": "'https://jovian.ai/wanderduck/stonkscreener-links-and-names'"
     },
     "execution_count": 11,
     "metadata": {},
     "output_type": "execute_result"
    }
   ],
   "source": [
    "import jovian\n",
    "jovian.commit(filename='StonkScreener_links_and_names.ipynb')"
   ],
   "metadata": {
    "collapsed": false,
    "pycharm": {
     "name": "#%%\n"
    }
   }
  }
 ],
 "metadata": {
  "kernelspec": {
   "display_name": "Python 3",
   "language": "python",
   "name": "python3"
  },
  "language_info": {
   "codemirror_mode": {
    "name": "ipython",
    "version": 2
   },
   "file_extension": ".py",
   "mimetype": "text/x-python",
   "name": "python",
   "nbconvert_exporter": "python",
   "pygments_lexer": "ipython2",
   "version": "2.7.6"
  }
 },
 "nbformat": 4,
 "nbformat_minor": 0
}